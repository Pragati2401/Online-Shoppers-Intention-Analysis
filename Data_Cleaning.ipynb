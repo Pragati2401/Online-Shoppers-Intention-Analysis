{
  "cells": [
    {
      "cell_type": "code",
      "execution_count": null,
      "metadata": {
        "id": "pPtgea491VCc"
      },
      "outputs": [],
      "source": [
        "# Import librarys\n",
        "import pandas as pd\n",
        "import matplotlib.pyplot as plt\n",
        "import seaborn as sns\n"
      ]
    },
    {
      "cell_type": "markdown",
      "metadata": {
        "id": "yj6J4r6k1VCe"
      },
      "source": [
        "DATA Processing"
      ]
    },
    {
      "cell_type": "code",
      "execution_count": null,
      "metadata": {
        "id": "uYqbB_LL1VCe",
        "outputId": "034fe68a-5fd7-448b-fe4f-353fc5379b62",
        "colab": {
          "base_uri": "https://localhost:8080/",
          "height": 425
        }
      },
      "outputs": [
        {
          "output_type": "error",
          "ename": "FileNotFoundError",
          "evalue": "ignored",
          "traceback": [
            "\u001b[0;31m---------------------------------------------------------------------------\u001b[0m",
            "\u001b[0;31mFileNotFoundError\u001b[0m                         Traceback (most recent call last)",
            "\u001b[0;32m<ipython-input-3-d309141fac8d>\u001b[0m in \u001b[0;36m<cell line: 3>\u001b[0;34m()\u001b[0m\n\u001b[1;32m      1\u001b[0m \u001b[0;31m# Load data and display dataframe shape\u001b[0m\u001b[0;34m\u001b[0m\u001b[0;34m\u001b[0m\u001b[0m\n\u001b[1;32m      2\u001b[0m \u001b[0monline_shop_data\u001b[0m \u001b[0;34m=\u001b[0m \u001b[0;34mf'C:\\\\Users\\\\Saigo\\\\Desktop\\\\ISDS_Project\\\\online_shoppers_intention.csv'\u001b[0m\u001b[0;34m\u001b[0m\u001b[0;34m\u001b[0m\u001b[0m\n\u001b[0;32m----> 3\u001b[0;31m \u001b[0monline_shop_data\u001b[0m \u001b[0;34m=\u001b[0m \u001b[0mpd\u001b[0m\u001b[0;34m.\u001b[0m\u001b[0mread_csv\u001b[0m\u001b[0;34m(\u001b[0m\u001b[0monline_shop_data\u001b[0m\u001b[0;34m)\u001b[0m\u001b[0;34m\u001b[0m\u001b[0;34m\u001b[0m\u001b[0m\n\u001b[0m\u001b[1;32m      4\u001b[0m \u001b[0;34m\u001b[0m\u001b[0m\n\u001b[1;32m      5\u001b[0m \u001b[0mprint\u001b[0m\u001b[0;34m(\u001b[0m\u001b[0;34mf'rows:    {online_shop_data.shape[0]}'\u001b[0m\u001b[0;34m)\u001b[0m\u001b[0;34m\u001b[0m\u001b[0;34m\u001b[0m\u001b[0m\n",
            "\u001b[0;32m/usr/local/lib/python3.10/dist-packages/pandas/util/_decorators.py\u001b[0m in \u001b[0;36mwrapper\u001b[0;34m(*args, **kwargs)\u001b[0m\n\u001b[1;32m    209\u001b[0m                 \u001b[0;32melse\u001b[0m\u001b[0;34m:\u001b[0m\u001b[0;34m\u001b[0m\u001b[0;34m\u001b[0m\u001b[0m\n\u001b[1;32m    210\u001b[0m                     \u001b[0mkwargs\u001b[0m\u001b[0;34m[\u001b[0m\u001b[0mnew_arg_name\u001b[0m\u001b[0;34m]\u001b[0m \u001b[0;34m=\u001b[0m \u001b[0mnew_arg_value\u001b[0m\u001b[0;34m\u001b[0m\u001b[0;34m\u001b[0m\u001b[0m\n\u001b[0;32m--> 211\u001b[0;31m             \u001b[0;32mreturn\u001b[0m \u001b[0mfunc\u001b[0m\u001b[0;34m(\u001b[0m\u001b[0;34m*\u001b[0m\u001b[0margs\u001b[0m\u001b[0;34m,\u001b[0m \u001b[0;34m**\u001b[0m\u001b[0mkwargs\u001b[0m\u001b[0;34m)\u001b[0m\u001b[0;34m\u001b[0m\u001b[0;34m\u001b[0m\u001b[0m\n\u001b[0m\u001b[1;32m    212\u001b[0m \u001b[0;34m\u001b[0m\u001b[0m\n\u001b[1;32m    213\u001b[0m         \u001b[0;32mreturn\u001b[0m \u001b[0mcast\u001b[0m\u001b[0;34m(\u001b[0m\u001b[0mF\u001b[0m\u001b[0;34m,\u001b[0m \u001b[0mwrapper\u001b[0m\u001b[0;34m)\u001b[0m\u001b[0;34m\u001b[0m\u001b[0;34m\u001b[0m\u001b[0m\n",
            "\u001b[0;32m/usr/local/lib/python3.10/dist-packages/pandas/util/_decorators.py\u001b[0m in \u001b[0;36mwrapper\u001b[0;34m(*args, **kwargs)\u001b[0m\n\u001b[1;32m    329\u001b[0m                     \u001b[0mstacklevel\u001b[0m\u001b[0;34m=\u001b[0m\u001b[0mfind_stack_level\u001b[0m\u001b[0;34m(\u001b[0m\u001b[0;34m)\u001b[0m\u001b[0;34m,\u001b[0m\u001b[0;34m\u001b[0m\u001b[0;34m\u001b[0m\u001b[0m\n\u001b[1;32m    330\u001b[0m                 )\n\u001b[0;32m--> 331\u001b[0;31m             \u001b[0;32mreturn\u001b[0m \u001b[0mfunc\u001b[0m\u001b[0;34m(\u001b[0m\u001b[0;34m*\u001b[0m\u001b[0margs\u001b[0m\u001b[0;34m,\u001b[0m \u001b[0;34m**\u001b[0m\u001b[0mkwargs\u001b[0m\u001b[0;34m)\u001b[0m\u001b[0;34m\u001b[0m\u001b[0;34m\u001b[0m\u001b[0m\n\u001b[0m\u001b[1;32m    332\u001b[0m \u001b[0;34m\u001b[0m\u001b[0m\n\u001b[1;32m    333\u001b[0m         \u001b[0;31m# error: \"Callable[[VarArg(Any), KwArg(Any)], Any]\" has no\u001b[0m\u001b[0;34m\u001b[0m\u001b[0;34m\u001b[0m\u001b[0m\n",
            "\u001b[0;32m/usr/local/lib/python3.10/dist-packages/pandas/io/parsers/readers.py\u001b[0m in \u001b[0;36mread_csv\u001b[0;34m(filepath_or_buffer, sep, delimiter, header, names, index_col, usecols, squeeze, prefix, mangle_dupe_cols, dtype, engine, converters, true_values, false_values, skipinitialspace, skiprows, skipfooter, nrows, na_values, keep_default_na, na_filter, verbose, skip_blank_lines, parse_dates, infer_datetime_format, keep_date_col, date_parser, dayfirst, cache_dates, iterator, chunksize, compression, thousands, decimal, lineterminator, quotechar, quoting, doublequote, escapechar, comment, encoding, encoding_errors, dialect, error_bad_lines, warn_bad_lines, on_bad_lines, delim_whitespace, low_memory, memory_map, float_precision, storage_options)\u001b[0m\n\u001b[1;32m    948\u001b[0m     \u001b[0mkwds\u001b[0m\u001b[0;34m.\u001b[0m\u001b[0mupdate\u001b[0m\u001b[0;34m(\u001b[0m\u001b[0mkwds_defaults\u001b[0m\u001b[0;34m)\u001b[0m\u001b[0;34m\u001b[0m\u001b[0;34m\u001b[0m\u001b[0m\n\u001b[1;32m    949\u001b[0m \u001b[0;34m\u001b[0m\u001b[0m\n\u001b[0;32m--> 950\u001b[0;31m     \u001b[0;32mreturn\u001b[0m \u001b[0m_read\u001b[0m\u001b[0;34m(\u001b[0m\u001b[0mfilepath_or_buffer\u001b[0m\u001b[0;34m,\u001b[0m \u001b[0mkwds\u001b[0m\u001b[0;34m)\u001b[0m\u001b[0;34m\u001b[0m\u001b[0;34m\u001b[0m\u001b[0m\n\u001b[0m\u001b[1;32m    951\u001b[0m \u001b[0;34m\u001b[0m\u001b[0m\n\u001b[1;32m    952\u001b[0m \u001b[0;34m\u001b[0m\u001b[0m\n",
            "\u001b[0;32m/usr/local/lib/python3.10/dist-packages/pandas/io/parsers/readers.py\u001b[0m in \u001b[0;36m_read\u001b[0;34m(filepath_or_buffer, kwds)\u001b[0m\n\u001b[1;32m    603\u001b[0m \u001b[0;34m\u001b[0m\u001b[0m\n\u001b[1;32m    604\u001b[0m     \u001b[0;31m# Create the parser.\u001b[0m\u001b[0;34m\u001b[0m\u001b[0;34m\u001b[0m\u001b[0m\n\u001b[0;32m--> 605\u001b[0;31m     \u001b[0mparser\u001b[0m \u001b[0;34m=\u001b[0m \u001b[0mTextFileReader\u001b[0m\u001b[0;34m(\u001b[0m\u001b[0mfilepath_or_buffer\u001b[0m\u001b[0;34m,\u001b[0m \u001b[0;34m**\u001b[0m\u001b[0mkwds\u001b[0m\u001b[0;34m)\u001b[0m\u001b[0;34m\u001b[0m\u001b[0;34m\u001b[0m\u001b[0m\n\u001b[0m\u001b[1;32m    606\u001b[0m \u001b[0;34m\u001b[0m\u001b[0m\n\u001b[1;32m    607\u001b[0m     \u001b[0;32mif\u001b[0m \u001b[0mchunksize\u001b[0m \u001b[0;32mor\u001b[0m \u001b[0miterator\u001b[0m\u001b[0;34m:\u001b[0m\u001b[0;34m\u001b[0m\u001b[0;34m\u001b[0m\u001b[0m\n",
            "\u001b[0;32m/usr/local/lib/python3.10/dist-packages/pandas/io/parsers/readers.py\u001b[0m in \u001b[0;36m__init__\u001b[0;34m(self, f, engine, **kwds)\u001b[0m\n\u001b[1;32m   1440\u001b[0m \u001b[0;34m\u001b[0m\u001b[0m\n\u001b[1;32m   1441\u001b[0m         \u001b[0mself\u001b[0m\u001b[0;34m.\u001b[0m\u001b[0mhandles\u001b[0m\u001b[0;34m:\u001b[0m \u001b[0mIOHandles\u001b[0m \u001b[0;34m|\u001b[0m \u001b[0;32mNone\u001b[0m \u001b[0;34m=\u001b[0m \u001b[0;32mNone\u001b[0m\u001b[0;34m\u001b[0m\u001b[0;34m\u001b[0m\u001b[0m\n\u001b[0;32m-> 1442\u001b[0;31m         \u001b[0mself\u001b[0m\u001b[0;34m.\u001b[0m\u001b[0m_engine\u001b[0m \u001b[0;34m=\u001b[0m \u001b[0mself\u001b[0m\u001b[0;34m.\u001b[0m\u001b[0m_make_engine\u001b[0m\u001b[0;34m(\u001b[0m\u001b[0mf\u001b[0m\u001b[0;34m,\u001b[0m \u001b[0mself\u001b[0m\u001b[0;34m.\u001b[0m\u001b[0mengine\u001b[0m\u001b[0;34m)\u001b[0m\u001b[0;34m\u001b[0m\u001b[0;34m\u001b[0m\u001b[0m\n\u001b[0m\u001b[1;32m   1443\u001b[0m \u001b[0;34m\u001b[0m\u001b[0m\n\u001b[1;32m   1444\u001b[0m     \u001b[0;32mdef\u001b[0m \u001b[0mclose\u001b[0m\u001b[0;34m(\u001b[0m\u001b[0mself\u001b[0m\u001b[0;34m)\u001b[0m \u001b[0;34m->\u001b[0m \u001b[0;32mNone\u001b[0m\u001b[0;34m:\u001b[0m\u001b[0;34m\u001b[0m\u001b[0;34m\u001b[0m\u001b[0m\n",
            "\u001b[0;32m/usr/local/lib/python3.10/dist-packages/pandas/io/parsers/readers.py\u001b[0m in \u001b[0;36m_make_engine\u001b[0;34m(self, f, engine)\u001b[0m\n\u001b[1;32m   1733\u001b[0m                 \u001b[0;32mif\u001b[0m \u001b[0;34m\"b\"\u001b[0m \u001b[0;32mnot\u001b[0m \u001b[0;32min\u001b[0m \u001b[0mmode\u001b[0m\u001b[0;34m:\u001b[0m\u001b[0;34m\u001b[0m\u001b[0;34m\u001b[0m\u001b[0m\n\u001b[1;32m   1734\u001b[0m                     \u001b[0mmode\u001b[0m \u001b[0;34m+=\u001b[0m \u001b[0;34m\"b\"\u001b[0m\u001b[0;34m\u001b[0m\u001b[0;34m\u001b[0m\u001b[0m\n\u001b[0;32m-> 1735\u001b[0;31m             self.handles = get_handle(\n\u001b[0m\u001b[1;32m   1736\u001b[0m                 \u001b[0mf\u001b[0m\u001b[0;34m,\u001b[0m\u001b[0;34m\u001b[0m\u001b[0;34m\u001b[0m\u001b[0m\n\u001b[1;32m   1737\u001b[0m                 \u001b[0mmode\u001b[0m\u001b[0;34m,\u001b[0m\u001b[0;34m\u001b[0m\u001b[0;34m\u001b[0m\u001b[0m\n",
            "\u001b[0;32m/usr/local/lib/python3.10/dist-packages/pandas/io/common.py\u001b[0m in \u001b[0;36mget_handle\u001b[0;34m(path_or_buf, mode, encoding, compression, memory_map, is_text, errors, storage_options)\u001b[0m\n\u001b[1;32m    854\u001b[0m         \u001b[0;32mif\u001b[0m \u001b[0mioargs\u001b[0m\u001b[0;34m.\u001b[0m\u001b[0mencoding\u001b[0m \u001b[0;32mand\u001b[0m \u001b[0;34m\"b\"\u001b[0m \u001b[0;32mnot\u001b[0m \u001b[0;32min\u001b[0m \u001b[0mioargs\u001b[0m\u001b[0;34m.\u001b[0m\u001b[0mmode\u001b[0m\u001b[0;34m:\u001b[0m\u001b[0;34m\u001b[0m\u001b[0;34m\u001b[0m\u001b[0m\n\u001b[1;32m    855\u001b[0m             \u001b[0;31m# Encoding\u001b[0m\u001b[0;34m\u001b[0m\u001b[0;34m\u001b[0m\u001b[0m\n\u001b[0;32m--> 856\u001b[0;31m             handle = open(\n\u001b[0m\u001b[1;32m    857\u001b[0m                 \u001b[0mhandle\u001b[0m\u001b[0;34m,\u001b[0m\u001b[0;34m\u001b[0m\u001b[0;34m\u001b[0m\u001b[0m\n\u001b[1;32m    858\u001b[0m                 \u001b[0mioargs\u001b[0m\u001b[0;34m.\u001b[0m\u001b[0mmode\u001b[0m\u001b[0;34m,\u001b[0m\u001b[0;34m\u001b[0m\u001b[0;34m\u001b[0m\u001b[0m\n",
            "\u001b[0;31mFileNotFoundError\u001b[0m: [Errno 2] No such file or directory: 'C:\\\\Users\\\\Saigo\\\\Desktop\\\\ISDS_Project\\\\online_shoppers_intention.csv'"
          ]
        }
      ],
      "source": [
        "# Load data and display dataframe shape\n",
        "online_shop_data = f'C:\\\\Users\\\\Saigo\\\\Desktop\\\\ISDS_Project\\\\online_shoppers_intention.csv'\n",
        "online_shop_data = pd.read_csv(online_shop_data)\n",
        "\n",
        "print(f'rows:    {online_shop_data.shape[0]}')\n",
        "print(f'columns: {online_shop_data.shape[1]}')"
      ]
    },
    {
      "cell_type": "code",
      "execution_count": null,
      "metadata": {
        "id": "GPXPLP5d1VCf"
      },
      "outputs": [],
      "source": [
        "online_shop_data.info()"
      ]
    },
    {
      "cell_type": "code",
      "execution_count": null,
      "metadata": {
        "id": "YnZCkBm01VCf"
      },
      "outputs": [],
      "source": [
        "online_shop_data.head(5)"
      ]
    },
    {
      "cell_type": "code",
      "execution_count": null,
      "metadata": {
        "id": "k2fTVcp11VCg"
      },
      "outputs": [],
      "source": [
        "# STEP 1: Check for missing value amounts and Percentages\n",
        "\n",
        "# Count missing values per column\n",
        "missing_values = online_shop_data.isna().sum()\n",
        "\n",
        "# Calculate the percentage of missing values\n",
        "total_rows = online_shop_data.shape[0]\n",
        "percentage_missing = (missing_values / total_rows) * 100\n",
        "\n",
        "# Create a new DataFrame to display the count and percentage\n",
        "missing_info = pd.DataFrame({'Count': missing_values, 'Percentage': percentage_missing})\n",
        "\n",
        "print(missing_info)"
      ]
    },
    {
      "cell_type": "code",
      "execution_count": null,
      "metadata": {
        "id": "B-QTqO5h1VCg"
      },
      "outputs": [],
      "source": [
        "# Create a heatmap of the correlation matrix\n",
        "correlation_matrix = online_shop_data.corr()\n",
        "sns.heatmap(correlation_matrix, annot=True, cmap='coolwarm', vmin=-1, vmax=1)\n",
        "plt.show()"
      ]
    },
    {
      "cell_type": "code",
      "execution_count": null,
      "metadata": {
        "id": "j5_Yf-rD1VCg"
      },
      "outputs": [],
      "source": [
        "# Check if any correlation values are less than -0.8 or greater than 0.8\n",
        "high_correlations = (correlation_matrix < -0.8) | (correlation_matrix > 0.8) & (correlation_matrix != 1)\n",
        "\n",
        "# Filter and display the high correlation values\n",
        "high_correlation_values = correlation_matrix[high_correlations]\n",
        "high_correlation_values = high_correlation_values.dropna(how='all')\n",
        "high_correlation_values = high_correlation_values.dropna(axis = 1,how='all')\n",
        "high_correlation_values"
      ]
    },
    {
      "cell_type": "code",
      "execution_count": null,
      "metadata": {
        "id": "WrWWb5-f1VCh"
      },
      "outputs": [],
      "source": [
        "#Drop ProductRelated in favor of Duration, (Time spent on page),Drop ExitRates\n",
        "#The value of \"Bounce Rate\" feature for a web page refers to the percentage of visitors who enter the site from that page and then leave (\"bounce\")\n",
        "#without triggering any other requests to the analytics server during that session.\n",
        "drop_col = ['ProductRelated','ExitRates']\n",
        "online_shop_data.drop(columns=drop_col,inplace=True)"
      ]
    },
    {
      "cell_type": "markdown",
      "metadata": {
        "id": "FOjAlzEr1VCh"
      },
      "source": [
        "Check for Outliers"
      ]
    },
    {
      "cell_type": "code",
      "execution_count": null,
      "metadata": {
        "id": "4FNLO3Ol1VCh"
      },
      "outputs": [],
      "source": [
        "# Assuming online_shop_data is your DataFrame\n",
        "columns_to_plot = online_shop_data.columns.difference(['Revenue'])\n",
        "\n",
        "# Determine the number of rows and columns for subplots dynamically\n",
        "num_cols = 2\n",
        "num_rows = (len(columns_to_plot) + num_cols - 1) // num_cols\n",
        "\n",
        "# Create subplots\n",
        "fig, axes = plt.subplots(num_rows, num_cols, figsize=(15, 10))\n",
        "\n",
        "# Flatten the axes array for easier indexing\n",
        "axes = axes.flatten()\n",
        "\n",
        "# Loop through each column and plot a histogram using seaborn\n",
        "for i, column in enumerate(columns_to_plot):\n",
        "    sns.histplot(online_shop_data[column], bins=20, ax=axes[i])\n",
        "    axes[i].set_title(column)\n",
        "\n",
        "# Hide any remaining empty subplots\n",
        "for j in range(len(columns_to_plot), num_rows * num_cols):\n",
        "    fig.delaxes(axes[j])\n",
        "\n",
        "# Adjust layout\n",
        "plt.tight_layout()\n",
        "plt.show()"
      ]
    },
    {
      "cell_type": "code",
      "execution_count": null,
      "metadata": {
        "id": "bF-csAVG1VCh"
      },
      "outputs": [],
      "source": [
        "\n",
        "sns.boxplot(x=online_shop_data['Administrative'])\n",
        "\n",
        "# Calculate IQR\n",
        "Q1 = online_shop_data['Administrative'].quantile(0.25)\n",
        "Q3 = online_shop_data['Administrative'].quantile(0.75)\n",
        "IQR = Q3 - Q1\n",
        "\n",
        "# Define the upper and lower bounds for outliers\n",
        "lower_bound = Q1 - 1.5 * IQR\n",
        "upper_bound = Q3 + 1.5 * IQR\n",
        "\n",
        "print(f'Lower bound: {lower_bound}\\nUpper bound: {upper_bound}')"
      ]
    },
    {
      "cell_type": "code",
      "execution_count": null,
      "metadata": {
        "id": "dRkc_MDp1VCh"
      },
      "outputs": [],
      "source": [
        "# Remove outliers\n",
        "online_shop_data = online_shop_data[(online_shop_data['Administrative'] >= lower_bound) & (online_shop_data['Administrative'] <= upper_bound)]\n",
        "sns.boxplot(x=online_shop_data['Administrative'])\n"
      ]
    },
    {
      "cell_type": "code",
      "execution_count": null,
      "metadata": {
        "id": "cx9KpvsQ1VCi"
      },
      "outputs": [],
      "source": [
        "sns.boxplot(x=online_shop_data['Administrative_Duration'])\n",
        "\n",
        "# Calculate IQR\n",
        "Q1 = online_shop_data['Administrative_Duration'].quantile(0.25)\n",
        "Q3 = online_shop_data['Administrative_Duration'].quantile(0.75)\n",
        "IQR = Q3 - Q1\n",
        "\n",
        "# Define the upper and lower bounds for outliers\n",
        "lower_bound = Q1 - 1.5 * IQR\n",
        "upper_bound = Q3 + 1.5 * IQR\n",
        "\n",
        "print(f'Lower bound: {lower_bound}\\nUpper bound: {upper_bound}')"
      ]
    },
    {
      "cell_type": "code",
      "execution_count": null,
      "metadata": {
        "id": "b5F-8c761VCi"
      },
      "outputs": [],
      "source": [
        "# Remove outliers\n",
        "online_shop_data = online_shop_data[(online_shop_data['Administrative_Duration'] >= lower_bound) & (online_shop_data['Administrative_Duration'] <= upper_bound)]\n",
        "sns.boxplot(x=online_shop_data['Administrative_Duration'])"
      ]
    },
    {
      "cell_type": "code",
      "execution_count": null,
      "metadata": {
        "id": "3Bsn1t_w1VCi"
      },
      "outputs": [],
      "source": [
        "sns.boxplot(x=online_shop_data['BounceRates'])\n",
        "\n",
        "# Calculate IQR\n",
        "Q1 = online_shop_data['BounceRates'].quantile(0.25)\n",
        "Q3 = online_shop_data['BounceRates'].quantile(0.75)\n",
        "IQR = Q3 - Q1\n",
        "\n",
        "# Define the upper and lower bounds for outliers\n",
        "lower_bound = Q1 - 1.5 * IQR\n",
        "upper_bound = Q3 + 1.5 * IQR\n",
        "\n",
        "print(f'Lower bound: {lower_bound}\\nUpper bound: {upper_bound}')"
      ]
    },
    {
      "cell_type": "code",
      "execution_count": null,
      "metadata": {
        "id": "rHZzsM2g1VCi"
      },
      "outputs": [],
      "source": [
        "# Remove outliers\n",
        "online_shop_data = online_shop_data[(online_shop_data['BounceRates'] >= lower_bound) & (online_shop_data['BounceRates'] <= upper_bound)]\n",
        "sns.boxplot(x=online_shop_data['BounceRates'])"
      ]
    },
    {
      "cell_type": "code",
      "execution_count": null,
      "metadata": {
        "id": "Rp4KuotA1VCi"
      },
      "outputs": [],
      "source": [
        "category_counts = online_shop_data['OperatingSystems'].value_counts()\n",
        "\n",
        "# Display the frequency table\n",
        "print(\"Original Frequency Table:\")\n",
        "print(category_counts)\n",
        "\n"
      ]
    },
    {
      "cell_type": "code",
      "execution_count": null,
      "metadata": {
        "id": "SZdQJddI1VCi"
      },
      "outputs": [],
      "source": [
        "# Determine a threshold\n",
        "threshold_percentage = 0.40\n",
        "threshold = len(online_shop_data) * threshold_percentage\n",
        "\n",
        "# Identify categories with fewer observations than the threshold\n",
        "infrequent_categories = category_counts[category_counts < threshold].index\n",
        "\n",
        "# Combine infrequent categories into a new category (e.g., 'Other')\n",
        "online_shop_data['OperatingSystems'] = online_shop_data['OperatingSystems'].apply(lambda x: 'Other' if x in infrequent_categories else x)\n",
        "\n"
      ]
    },
    {
      "cell_type": "code",
      "execution_count": null,
      "metadata": {
        "id": "b125SVAB1VCi"
      },
      "outputs": [],
      "source": []
    },
    {
      "cell_type": "code",
      "execution_count": null,
      "metadata": {
        "id": "_BIE7Tj-1VCi"
      },
      "outputs": [],
      "source": [
        "category_counts = online_shop_data['Region'].value_counts()\n",
        "\n",
        "# Display the frequency table\n",
        "print(\"Original Frequency Table:\")\n",
        "print(category_counts)\n"
      ]
    },
    {
      "cell_type": "code",
      "execution_count": null,
      "metadata": {
        "id": "LiI7X-v01VCi"
      },
      "outputs": [],
      "source": [
        "# Determine a threshold\n",
        "threshold_percentage = 0.10\n",
        "threshold = len(online_shop_data) * threshold_percentage\n",
        "\n",
        "# Identify categories with fewer observations than the threshold\n",
        "infrequent_categories = category_counts[category_counts < threshold].index\n",
        "\n",
        "# Combine infrequent categories into a new category (e.g., 'Other')\n",
        "online_shop_data['Region'] = online_shop_data['Region'].apply(lambda x: 'Other' if x in infrequent_categories else x)\n"
      ]
    },
    {
      "cell_type": "code",
      "execution_count": null,
      "metadata": {
        "id": "WIJHV5Pg1VCi"
      },
      "outputs": [],
      "source": [
        "\n",
        "category_counts = online_shop_data['VisitorType'].value_counts()\n",
        "\n",
        "# Display the frequency table\n",
        "print(\"Original Frequency Table:\")\n",
        "print(category_counts)\n"
      ]
    },
    {
      "cell_type": "code",
      "execution_count": null,
      "metadata": {
        "id": "G2eayu991VCj"
      },
      "outputs": [],
      "source": [
        "# Determine a threshold (e.g., 1% of the total number of observations)\n",
        "threshold_percentage = 0.20\n",
        "threshold = len(online_shop_data) * threshold_percentage\n",
        "\n",
        "# Identify categories with fewer observations than the threshold\n",
        "infrequent_categories = category_counts[category_counts < threshold].index\n",
        "\n",
        "# Combine infrequent categories into a new category (e.g., 'Other')\n",
        "online_shop_data['VisitorType'] = online_shop_data['VisitorType'].apply(lambda x: 'Other' if x in infrequent_categories else x)"
      ]
    },
    {
      "cell_type": "code",
      "execution_count": null,
      "metadata": {
        "id": "q1ZW6uRB1VCj"
      },
      "outputs": [],
      "source": [
        "online_shop_data['VisitorType'].value_counts()"
      ]
    },
    {
      "cell_type": "code",
      "execution_count": null,
      "metadata": {
        "id": "ylnJ1r3o1VCj"
      },
      "outputs": [],
      "source": [
        "# Create Dummy Variables for the Month Column\n",
        "online_shop_data = pd.get_dummies(online_shop_data, columns=['Month'], drop_first=True)"
      ]
    },
    {
      "cell_type": "code",
      "execution_count": null,
      "metadata": {
        "id": "F95RrLIb1VCj"
      },
      "outputs": [],
      "source": [
        "online_shop_data.to_csv('C:\\\\Users\\\\Saigo\\\\Desktop\\\\ISDS_Project\\\\Cleaned_online_shoppers_intention.csv')"
      ]
    }
  ],
  "metadata": {
    "kernelspec": {
      "display_name": "base",
      "language": "python",
      "name": "python3"
    },
    "language_info": {
      "codemirror_mode": {
        "name": "ipython",
        "version": 3
      },
      "file_extension": ".py",
      "mimetype": "text/x-python",
      "name": "python",
      "nbconvert_exporter": "python",
      "pygments_lexer": "ipython3",
      "version": "3.8.8"
    },
    "colab": {
      "provenance": []
    }
  },
  "nbformat": 4,
  "nbformat_minor": 0
}